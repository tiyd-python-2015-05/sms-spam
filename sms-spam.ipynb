{
 "cells": [
  {
   "cell_type": "code",
   "execution_count": 24,
   "metadata": {
    "collapsed": false
   },
   "outputs": [],
   "source": [
    "from zipfile import ZipFile\n",
    "import pandas as pd\n",
    "from sklearn import cross_validation\n",
    "from sklearn.naive_bayes import MultinomialNB\n",
    "from sklearn.feature_extraction.text import CountVectorizer\n",
    "import numpy as np\n",
    "import re\n",
    "from sklearn.pipeline import Pipeline"
   ]
  },
  {
   "cell_type": "code",
   "execution_count": 2,
   "metadata": {
    "collapsed": false
   },
   "outputs": [],
   "source": [
    "with ZipFile('./smsspamcollection.zip', 'r') as zipped:\n",
    "    with zipped.open('SMSSpamCollection', 'r') as fh:\n",
    "        data = fh.readlines()\n",
    "results = []\n",
    "for idx in range(len(data)):\n",
    "\n",
    "    if re.match(b'ham\\t', data[idx]):\n",
    "        results.append(0)\n",
    "        data[idx] = data[idx][4:]\n",
    "    else:\n",
    "        results.append(1)\n",
    "        data[idx] = data[idx][5:]\n"
   ]
  },
  {
   "cell_type": "code",
   "execution_count": 13,
   "metadata": {
    "collapsed": false
   },
   "outputs": [],
   "source": [
    "token_pattern = r'(?u)\\b[\\w.,:()[\\w.,:()]+\\b'  # let it take weird punctuation"
   ]
  },
  {
   "cell_type": "code",
   "execution_count": 14,
   "metadata": {
    "collapsed": false
   },
   "outputs": [],
   "source": [
    "vect = CountVectorizer(token_pattern=token_pattern, analyzer='word')\n",
    "nb = MultinomialNB()"
   ]
  },
  {
   "cell_type": "code",
   "execution_count": 15,
   "metadata": {
    "collapsed": false
   },
   "outputs": [],
   "source": [
    "X_train, X_test, Y_train, Y_test = cross_validation.train_test_split(data, \\\n",
    "                                         results, test_size=.4, random_state=144)"
   ]
  },
  {
   "cell_type": "code",
   "execution_count": 16,
   "metadata": {
    "collapsed": false
   },
   "outputs": [
    {
     "data": {
      "text/plain": [
       "['he', 'l_lo', 'i', 'a:m', '4a', '33,5', 'ju:gger.naut']"
      ]
     },
     "execution_count": 16,
     "metadata": {},
     "output_type": "execute_result"
    }
   ],
   "source": [
    "pipe = Pipeline([('vect', vect),('nb', nb)])\n",
    "analyzer = vect.build_analyzer()\n",
    "analyzer('he-l_lo I a:m, 4a, 33,5 ju:gger.naut') # testing the token_pattern"
   ]
  },
  {
   "cell_type": "code",
   "execution_count": 17,
   "metadata": {
    "collapsed": false
   },
   "outputs": [
    {
     "data": {
      "text/plain": [
       "Pipeline(steps=[('vect', CountVectorizer(analyzer='word', binary=False, decode_error='strict',\n",
       "        dtype=<class 'numpy.int64'>, encoding='utf-8', input='content',\n",
       "        lowercase=True, max_df=1.0, max_features=None, min_df=1,\n",
       "        ngram_range=(1, 1), preprocessor=None, stop_words=None,\n",
       "        strip_accents=None, token_pattern='(?u)\\\\b[\\\\w.,:()[\\\\w.,:()]+\\\\b',\n",
       "        tokenizer=None, vocabulary=None)), ('nb', MultinomialNB(alpha=1.0, class_prior=None, fit_prior=True))])"
      ]
     },
     "execution_count": 17,
     "metadata": {},
     "output_type": "execute_result"
    }
   ],
   "source": [
    "pipe.fit(X_train, Y_train)"
   ]
  },
  {
   "cell_type": "code",
   "execution_count": 18,
   "metadata": {
    "collapsed": false
   },
   "outputs": [
    {
     "data": {
      "text/plain": [
       "0.98116591928251118"
      ]
     },
     "execution_count": 18,
     "metadata": {},
     "output_type": "execute_result"
    }
   ],
   "source": [
    "pipe.score(X_test, Y_test)"
   ]
  },
  {
   "cell_type": "code",
   "execution_count": 29,
   "metadata": {
    "collapsed": false,
    "scrolled": true
   },
   "outputs": [
    {
     "name": "stdout",
     "output_type": "stream",
     "text": [
      "Pipeline results(all data): 715 4859\n",
      "Actual values: 747 4827\n",
      "Success level:  99.9881593111\n"
     ]
    }
   ],
   "source": [
    "predictions = pipe.predict(data)\n",
    "print('Pipeline results(all data):', sum(predictions), len(predictions) - sum(predictions))\n",
    "print('Actual values:', sum(results), len(results) - sum(results))\n",
    "print('Success level: ',100 - sum(abs(results - predictions)) / len(results))"
   ]
  },
  {
   "cell_type": "code",
   "execution_count": 30,
   "metadata": {
    "collapsed": false
   },
   "outputs": [
    {
     "name": "stdout",
     "output_type": "stream",
     "text": [
      "Pipeline results(test values): 266 1964\n",
      "Actual values: 288 5286\n",
      "Success level:  99.9811659193\n"
     ]
    }
   ],
   "source": [
    "predictions = pipe.predict(X_test)\n",
    "print('Pipeline results(test values):', sum(predictions), len(predictions) - sum(predictions))\n",
    "print('Actual values:', sum(Y_test), len(results) - sum(Y_test))\n",
    "print('Success level: ',100 - sum(abs(Y_test - predictions))  / len(Y_test))"
   ]
  },
  {
   "cell_type": "code",
   "execution_count": null,
   "metadata": {
    "collapsed": true
   },
   "outputs": [],
   "source": []
  },
  {
   "cell_type": "code",
   "execution_count": null,
   "metadata": {
    "collapsed": true
   },
   "outputs": [],
   "source": []
  }
 ],
 "metadata": {
  "kernelspec": {
   "display_name": "Python 3",
   "language": "python",
   "name": "python3"
  },
  "language_info": {
   "codemirror_mode": {
    "name": "ipython",
    "version": 3
   },
   "file_extension": ".py",
   "mimetype": "text/x-python",
   "name": "python",
   "nbconvert_exporter": "python",
   "pygments_lexer": "ipython3",
   "version": "3.4.3"
  }
 },
 "nbformat": 4,
 "nbformat_minor": 0
}
